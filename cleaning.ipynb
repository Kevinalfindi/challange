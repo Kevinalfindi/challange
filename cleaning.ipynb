{
 "cells": [
  {
   "cell_type": "code",
   "execution_count": 17,
   "id": "7c7e2e64",
   "metadata": {},
   "outputs": [],
   "source": [
    "import pandas as pd\n",
    "import re\n",
    "import seaborn as sns\n",
    "import matplotlib as mpl\n",
    "import matplotlib.pyplot as plt\n",
    "import numpy as np"
   ]
  },
  {
   "cell_type": "code",
   "execution_count": 18,
   "id": "5333458c",
   "metadata": {},
   "outputs": [],
   "source": [
    "# membaca data\n",
    "df = pd.read_csv('data\\data.csv', encoding ='latin-1')"
   ]
  },
  {
   "cell_type": "code",
   "execution_count": 19,
   "id": "8ceacfb5",
   "metadata": {},
   "outputs": [],
   "source": [
    "df_abusive = pd.read_csv('data/abusive.csv', encoding = 'latin-1')"
   ]
  },
  {
   "cell_type": "code",
   "execution_count": 20,
   "id": "f427ad7b",
   "metadata": {},
   "outputs": [],
   "source": [
    "df_alay = pd.read_csv('data/new_kamusalay.csv', encoding ='iso-8859-1', header=None)"
   ]
  },
  {
   "cell_type": "code",
   "execution_count": 21,
   "id": "ace8a8ae",
   "metadata": {},
   "outputs": [
    {
     "data": {
      "text/html": [
       "<div>\n",
       "<style scoped>\n",
       "    .dataframe tbody tr th:only-of-type {\n",
       "        vertical-align: middle;\n",
       "    }\n",
       "\n",
       "    .dataframe tbody tr th {\n",
       "        vertical-align: top;\n",
       "    }\n",
       "\n",
       "    .dataframe thead th {\n",
       "        text-align: right;\n",
       "    }\n",
       "</style>\n",
       "<table border=\"1\" class=\"dataframe\">\n",
       "  <thead>\n",
       "    <tr style=\"text-align: right;\">\n",
       "      <th></th>\n",
       "      <th>ABUSIVE</th>\n",
       "    </tr>\n",
       "  </thead>\n",
       "  <tbody>\n",
       "    <tr>\n",
       "      <th>0</th>\n",
       "      <td>alay</td>\n",
       "    </tr>\n",
       "    <tr>\n",
       "      <th>1</th>\n",
       "      <td>ampas</td>\n",
       "    </tr>\n",
       "    <tr>\n",
       "      <th>2</th>\n",
       "      <td>buta</td>\n",
       "    </tr>\n",
       "    <tr>\n",
       "      <th>3</th>\n",
       "      <td>keparat</td>\n",
       "    </tr>\n",
       "    <tr>\n",
       "      <th>4</th>\n",
       "      <td>anjing</td>\n",
       "    </tr>\n",
       "  </tbody>\n",
       "</table>\n",
       "</div>"
      ],
      "text/plain": [
       "   ABUSIVE\n",
       "0     alay\n",
       "1    ampas\n",
       "2     buta\n",
       "3  keparat\n",
       "4   anjing"
      ]
     },
     "execution_count": 21,
     "metadata": {},
     "output_type": "execute_result"
    }
   ],
   "source": [
    "# ekplorasidata\n",
    "# membaca data abusive 5 teratas\n",
    "df_abusive.head()"
   ]
  },
  {
   "cell_type": "code",
   "execution_count": 22,
   "id": "a61a7969",
   "metadata": {},
   "outputs": [
    {
     "name": "stdout",
     "output_type": "stream",
     "text": [
      "ABUSIVE    125\n",
      "dtype: int64\n",
      "\n",
      "\n",
      "       ABUSIVE\n",
      "count      125\n",
      "unique     125\n",
      "top       alay\n",
      "freq         1\n",
      "\n",
      "\n",
      "ABUSIVE    0\n",
      "dtype: int64\n",
      "\n",
      "\n"
     ]
    }
   ],
   "source": [
    "#menghitung banyaknya data abusive dan mengecek adakah data null\n",
    "print(df_abusive.count())\n",
    "print('\\n')\n",
    "print(df_abusive.describe())\n",
    "print('\\n')\n",
    "print(df_abusive.isnull().sum())\n",
    "print('\\n')"
   ]
  },
  {
   "cell_type": "code",
   "execution_count": 23,
   "id": "e8dce9bf",
   "metadata": {},
   "outputs": [
    {
     "data": {
      "text/html": [
       "<div>\n",
       "<style scoped>\n",
       "    .dataframe tbody tr th:only-of-type {\n",
       "        vertical-align: middle;\n",
       "    }\n",
       "\n",
       "    .dataframe tbody tr th {\n",
       "        vertical-align: top;\n",
       "    }\n",
       "\n",
       "    .dataframe thead th {\n",
       "        text-align: right;\n",
       "    }\n",
       "</style>\n",
       "<table border=\"1\" class=\"dataframe\">\n",
       "  <thead>\n",
       "    <tr style=\"text-align: right;\">\n",
       "      <th></th>\n",
       "      <th>0</th>\n",
       "      <th>1</th>\n",
       "    </tr>\n",
       "  </thead>\n",
       "  <tbody>\n",
       "    <tr>\n",
       "      <th>0</th>\n",
       "      <td>anakjakartaasikasik</td>\n",
       "      <td>anak jakarta asyik asyik</td>\n",
       "    </tr>\n",
       "    <tr>\n",
       "      <th>1</th>\n",
       "      <td>pakcikdahtua</td>\n",
       "      <td>pak cik sudah tua</td>\n",
       "    </tr>\n",
       "    <tr>\n",
       "      <th>2</th>\n",
       "      <td>pakcikmudalagi</td>\n",
       "      <td>pak cik muda lagi</td>\n",
       "    </tr>\n",
       "    <tr>\n",
       "      <th>3</th>\n",
       "      <td>t3tapjokowi</td>\n",
       "      <td>tetap jokowi</td>\n",
       "    </tr>\n",
       "    <tr>\n",
       "      <th>4</th>\n",
       "      <td>3x</td>\n",
       "      <td>tiga kali</td>\n",
       "    </tr>\n",
       "  </tbody>\n",
       "</table>\n",
       "</div>"
      ],
      "text/plain": [
       "                     0                         1\n",
       "0  anakjakartaasikasik  anak jakarta asyik asyik\n",
       "1         pakcikdahtua         pak cik sudah tua\n",
       "2       pakcikmudalagi         pak cik muda lagi\n",
       "3          t3tapjokowi              tetap jokowi\n",
       "4                   3x                 tiga kali"
      ]
     },
     "execution_count": 23,
     "metadata": {},
     "output_type": "execute_result"
    }
   ],
   "source": [
    "# membaca data kamus alay 5 teratas\n",
    "df_alay.head()"
   ]
  },
  {
   "cell_type": "code",
   "execution_count": 24,
   "id": "4d2ea2a8",
   "metadata": {},
   "outputs": [
    {
     "name": "stdout",
     "output_type": "stream",
     "text": [
      "0    15167\n",
      "1    15167\n",
      "dtype: int64\n",
      "\n",
      "\n",
      "                          0      1\n",
      "count                 15167  15167\n",
      "unique                15167   8639\n",
      "top     anakjakartaasikasik   wkwk\n",
      "freq                      1    100\n",
      "\n",
      "\n",
      "0    0\n",
      "1    0\n",
      "dtype: int64\n",
      "\n",
      "\n"
     ]
    }
   ],
   "source": [
    "#menghitung banyaknya data kamus alay dan mengecek adakah data null\n",
    "print(df_alay.count())\n",
    "print('\\n')\n",
    "print(df_alay.describe())\n",
    "print('\\n')\n",
    "print(df_alay.isnull().sum())\n",
    "print('\\n')"
   ]
  },
  {
   "cell_type": "code",
   "execution_count": 25,
   "id": "9a68b344",
   "metadata": {},
   "outputs": [
    {
     "data": {
      "text/html": [
       "<div>\n",
       "<style scoped>\n",
       "    .dataframe tbody tr th:only-of-type {\n",
       "        vertical-align: middle;\n",
       "    }\n",
       "\n",
       "    .dataframe tbody tr th {\n",
       "        vertical-align: top;\n",
       "    }\n",
       "\n",
       "    .dataframe thead th {\n",
       "        text-align: right;\n",
       "    }\n",
       "</style>\n",
       "<table border=\"1\" class=\"dataframe\">\n",
       "  <thead>\n",
       "    <tr style=\"text-align: right;\">\n",
       "      <th></th>\n",
       "      <th>Tweet</th>\n",
       "      <th>HS</th>\n",
       "      <th>Abusive</th>\n",
       "      <th>HS_Individual</th>\n",
       "      <th>HS_Group</th>\n",
       "      <th>HS_Religion</th>\n",
       "      <th>HS_Race</th>\n",
       "      <th>HS_Physical</th>\n",
       "      <th>HS_Gender</th>\n",
       "      <th>HS_Other</th>\n",
       "      <th>HS_Weak</th>\n",
       "      <th>HS_Moderate</th>\n",
       "      <th>HS_Strong</th>\n",
       "    </tr>\n",
       "  </thead>\n",
       "  <tbody>\n",
       "    <tr>\n",
       "      <th>0</th>\n",
       "      <td>- disaat semua cowok berusaha melacak perhatia...</td>\n",
       "      <td>1</td>\n",
       "      <td>1</td>\n",
       "      <td>1</td>\n",
       "      <td>0</td>\n",
       "      <td>0</td>\n",
       "      <td>0</td>\n",
       "      <td>0</td>\n",
       "      <td>0</td>\n",
       "      <td>1</td>\n",
       "      <td>1</td>\n",
       "      <td>0</td>\n",
       "      <td>0</td>\n",
       "    </tr>\n",
       "    <tr>\n",
       "      <th>1</th>\n",
       "      <td>RT USER: USER siapa yang telat ngasih tau elu?...</td>\n",
       "      <td>0</td>\n",
       "      <td>1</td>\n",
       "      <td>0</td>\n",
       "      <td>0</td>\n",
       "      <td>0</td>\n",
       "      <td>0</td>\n",
       "      <td>0</td>\n",
       "      <td>0</td>\n",
       "      <td>0</td>\n",
       "      <td>0</td>\n",
       "      <td>0</td>\n",
       "      <td>0</td>\n",
       "    </tr>\n",
       "    <tr>\n",
       "      <th>2</th>\n",
       "      <td>41. Kadang aku berfikir, kenapa aku tetap perc...</td>\n",
       "      <td>0</td>\n",
       "      <td>0</td>\n",
       "      <td>0</td>\n",
       "      <td>0</td>\n",
       "      <td>0</td>\n",
       "      <td>0</td>\n",
       "      <td>0</td>\n",
       "      <td>0</td>\n",
       "      <td>0</td>\n",
       "      <td>0</td>\n",
       "      <td>0</td>\n",
       "      <td>0</td>\n",
       "    </tr>\n",
       "    <tr>\n",
       "      <th>3</th>\n",
       "      <td>USER USER AKU ITU AKU\\n\\nKU TAU MATAMU SIPIT T...</td>\n",
       "      <td>0</td>\n",
       "      <td>0</td>\n",
       "      <td>0</td>\n",
       "      <td>0</td>\n",
       "      <td>0</td>\n",
       "      <td>0</td>\n",
       "      <td>0</td>\n",
       "      <td>0</td>\n",
       "      <td>0</td>\n",
       "      <td>0</td>\n",
       "      <td>0</td>\n",
       "      <td>0</td>\n",
       "    </tr>\n",
       "    <tr>\n",
       "      <th>4</th>\n",
       "      <td>USER USER Kaum cebong kapir udah keliatan dong...</td>\n",
       "      <td>1</td>\n",
       "      <td>1</td>\n",
       "      <td>0</td>\n",
       "      <td>1</td>\n",
       "      <td>1</td>\n",
       "      <td>0</td>\n",
       "      <td>0</td>\n",
       "      <td>0</td>\n",
       "      <td>0</td>\n",
       "      <td>0</td>\n",
       "      <td>1</td>\n",
       "      <td>0</td>\n",
       "    </tr>\n",
       "  </tbody>\n",
       "</table>\n",
       "</div>"
      ],
      "text/plain": [
       "                                               Tweet  HS  Abusive  \\\n",
       "0  - disaat semua cowok berusaha melacak perhatia...   1        1   \n",
       "1  RT USER: USER siapa yang telat ngasih tau elu?...   0        1   \n",
       "2  41. Kadang aku berfikir, kenapa aku tetap perc...   0        0   \n",
       "3  USER USER AKU ITU AKU\\n\\nKU TAU MATAMU SIPIT T...   0        0   \n",
       "4  USER USER Kaum cebong kapir udah keliatan dong...   1        1   \n",
       "\n",
       "   HS_Individual  HS_Group  HS_Religion  HS_Race  HS_Physical  HS_Gender  \\\n",
       "0              1         0            0        0            0          0   \n",
       "1              0         0            0        0            0          0   \n",
       "2              0         0            0        0            0          0   \n",
       "3              0         0            0        0            0          0   \n",
       "4              0         1            1        0            0          0   \n",
       "\n",
       "   HS_Other  HS_Weak  HS_Moderate  HS_Strong  \n",
       "0         1        1            0          0  \n",
       "1         0        0            0          0  \n",
       "2         0        0            0          0  \n",
       "3         0        0            0          0  \n",
       "4         0        0            1          0  "
      ]
     },
     "execution_count": 25,
     "metadata": {},
     "output_type": "execute_result"
    }
   ],
   "source": [
    "# membaca data df 5 teratas\n",
    "df.head()"
   ]
  },
  {
   "cell_type": "code",
   "execution_count": 26,
   "id": "8bd1d29b",
   "metadata": {},
   "outputs": [
    {
     "name": "stdout",
     "output_type": "stream",
     "text": [
      "<class 'pandas.core.frame.DataFrame'>\n",
      "RangeIndex: 13169 entries, 0 to 13168\n",
      "Data columns (total 13 columns):\n",
      " #   Column         Non-Null Count  Dtype \n",
      "---  ------         --------------  ----- \n",
      " 0   Tweet          13169 non-null  object\n",
      " 1   HS             13169 non-null  int64 \n",
      " 2   Abusive        13169 non-null  int64 \n",
      " 3   HS_Individual  13169 non-null  int64 \n",
      " 4   HS_Group       13169 non-null  int64 \n",
      " 5   HS_Religion    13169 non-null  int64 \n",
      " 6   HS_Race        13169 non-null  int64 \n",
      " 7   HS_Physical    13169 non-null  int64 \n",
      " 8   HS_Gender      13169 non-null  int64 \n",
      " 9   HS_Other       13169 non-null  int64 \n",
      " 10  HS_Weak        13169 non-null  int64 \n",
      " 11  HS_Moderate    13169 non-null  int64 \n",
      " 12  HS_Strong      13169 non-null  int64 \n",
      "dtypes: int64(12), object(1)\n",
      "memory usage: 1.3+ MB\n",
      "None\n",
      "\n",
      "\n",
      "                 HS       Abusive  HS_Individual      HS_Group   HS_Religion  \\\n",
      "count  13169.000000  13169.000000   13169.000000  13169.000000  13169.000000   \n",
      "mean       0.422280      0.382945       0.271471      0.150809      0.060217   \n",
      "std        0.493941      0.486123       0.444735      0.357876      0.237898   \n",
      "min        0.000000      0.000000       0.000000      0.000000      0.000000   \n",
      "25%        0.000000      0.000000       0.000000      0.000000      0.000000   \n",
      "50%        0.000000      0.000000       0.000000      0.000000      0.000000   \n",
      "75%        1.000000      1.000000       1.000000      0.000000      0.000000   \n",
      "max        1.000000      1.000000       1.000000      1.000000      1.000000   \n",
      "\n",
      "            HS_Race   HS_Physical     HS_Gender      HS_Other       HS_Weak  \\\n",
      "count  13169.000000  13169.000000  13169.000000  13169.000000  13169.000000   \n",
      "mean       0.042980      0.024527      0.023236      0.284000      0.256891   \n",
      "std        0.202819      0.154685      0.150659      0.450954      0.436935   \n",
      "min        0.000000      0.000000      0.000000      0.000000      0.000000   \n",
      "25%        0.000000      0.000000      0.000000      0.000000      0.000000   \n",
      "50%        0.000000      0.000000      0.000000      0.000000      0.000000   \n",
      "75%        0.000000      0.000000      0.000000      1.000000      1.000000   \n",
      "max        1.000000      1.000000      1.000000      1.000000      1.000000   \n",
      "\n",
      "        HS_Moderate     HS_Strong  \n",
      "count  13169.000000  13169.000000  \n",
      "mean       0.129471      0.035918  \n",
      "std        0.335733      0.186092  \n",
      "min        0.000000      0.000000  \n",
      "25%        0.000000      0.000000  \n",
      "50%        0.000000      0.000000  \n",
      "75%        0.000000      0.000000  \n",
      "max        1.000000      1.000000  \n",
      "\n",
      "\n",
      "Tweet            0\n",
      "HS               0\n",
      "Abusive          0\n",
      "HS_Individual    0\n",
      "HS_Group         0\n",
      "HS_Religion      0\n",
      "HS_Race          0\n",
      "HS_Physical      0\n",
      "HS_Gender        0\n",
      "HS_Other         0\n",
      "HS_Weak          0\n",
      "HS_Moderate      0\n",
      "HS_Strong        0\n",
      "dtype: int64\n",
      "\n",
      "\n"
     ]
    }
   ],
   "source": [
    "#menghitung banyaknya data kamus alay dan mengecek adakah data null\n",
    "print(df.info())\n",
    "print('\\n')\n",
    "print(df.describe())\n",
    "print('\\n')\n",
    "print(df.isnull().sum())\n",
    "print('\\n')"
   ]
  },
  {
   "cell_type": "code",
   "execution_count": 27,
   "id": "bb70d4f7",
   "metadata": {},
   "outputs": [],
   "source": [
    "# manipulasi data "
   ]
  },
  {
   "cell_type": "code",
   "execution_count": 28,
   "id": "2a096085",
   "metadata": {},
   "outputs": [
    {
     "data": {
      "text/plain": [
       "0    7608\n",
       "1    5561\n",
       "Name: HS, dtype: int64"
      ]
     },
     "execution_count": 28,
     "metadata": {},
     "output_type": "execute_result"
    }
   ],
   "source": [
    "#menghitung data hatespeech\n",
    "df.HS.value_counts()"
   ]
  },
  {
   "cell_type": "code",
   "execution_count": 29,
   "id": "406f0685",
   "metadata": {},
   "outputs": [
    {
     "data": {
      "text/plain": [
       "0    8126\n",
       "1    5043\n",
       "Name: Abusive, dtype: int64"
      ]
     },
     "execution_count": 29,
     "metadata": {},
     "output_type": "execute_result"
    }
   ],
   "source": [
    "# menghitung data abusive\n",
    "df.Abusive.value_counts()"
   ]
  },
  {
   "cell_type": "code",
   "execution_count": 30,
   "id": "c0a468f5",
   "metadata": {},
   "outputs": [
    {
     "name": "stdout",
     "output_type": "stream",
     "text": [
      "hate speech shape:  (7309, 13)\n",
      "Non-hate speech shape:  (5860, 13)\n"
     ]
    }
   ],
   "source": [
    "# menghitung jumlah hate speech dan non hate speech\n",
    "print(\"hate speech shape: \", df[(df['HS'] == 1) | (df['Abusive'] == 1)].shape)\n",
    "print(\"Non-hate speech shape: \", df[(df['HS'] == 0) & (df['Abusive'] == 0)].shape)"
   ]
  },
  {
   "cell_type": "code",
   "execution_count": 31,
   "id": "e7377498",
   "metadata": {},
   "outputs": [
    {
     "data": {
      "image/png": "[encoded data removed]",
      "text/plain": [
       "<Figure size 432x288 with 1 Axes>"
      ]
     },
     "metadata": {},
     "output_type": "display_data"
    }
   ],
   "source": [
    "# membuat pie cart untunk membandingkan toxic dan non toxic\n",
    "labels = ['hate speech', 'non hate speech']\n",
    "sizes = [7309, 5860]\n",
    "explode = (0,0)\n",
    "\n",
    "fig1, ax1 = plt.subplots()\n",
    "ax1.pie(sizes,explode=explode, labels=labels, autopct='%1.1f%%', shadow =True, startangle=90)\n",
    "ax1.axis('equal')\n",
    "plt.title('classification data on hate speech in twitter')\n",
    "plt.legend(['yes', 'no'])\n",
    "plt.show()"
   ]
  },
  {
   "cell_type": "code",
   "execution_count": 32,
   "id": "9eed8378",
   "metadata": {},
   "outputs": [
    {
     "name": "stdout",
     "output_type": "stream",
     "text": [
      "[3575] [1986] [793] [566] [323] [306] [3740]\n"
     ]
    }
   ],
   "source": [
    "# menghitung HS berdasarkan jenisnya\n",
    "print([df.HS_Individual.sum()],\n",
    "[df.HS_Group.sum()],\n",
    "[df.HS_Religion.sum()],\n",
    "[df.HS_Race.sum()],\n",
    "[df.HS_Physical.sum()],\n",
    "[df.HS_Gender.sum()],\n",
    "[df.HS_Other.sum()])"
   ]
  },
  {
   "cell_type": "code",
   "execution_count": 33,
   "id": "9ca8bf72",
   "metadata": {},
   "outputs": [
    {
     "name": "stderr",
     "output_type": "stream",
     "text": [
      "No artists with labels found to put in legend.  Note that artists whose label start with an underscore are ignored when legend() is called with no argument.\n"
     ]
    },
    {
     "data": {
      "image/png": "[encoded data removed]",
      "text/plain": [
       "<Figure size 432x288 with 1 Axes>"
      ]
     },
     "metadata": {
      "needs_background": "light"
     },
     "output_type": "display_data"
    }
   ],
   "source": [
    "# membuat visualisasi bar chart\n",
    "fig, ax = plt.subplots()\n",
    "HS = ['Individual', 'Group', 'Religion', 'Race', 'Pyhsical', 'Gender', 'Other']\n",
    "counts = [3575, 1986, 793, 566, 323, 306, 3740]\n",
    "bar_colors = ['tab:red', 'tab:blue', 'tab:purple', 'tab:green', 'tab:grey', 'tab:brown', 'tab:cyan']\n",
    "ax.bar(HS, counts, color=bar_colors)\n",
    "\n",
    "ax.set_ylabel('HS count')\n",
    "ax.set_title('HS counts per clasification')\n",
    "ax.legend(title='clasification of HS')\n",
    "\n",
    "plt.show()"
   ]
  },
  {
   "cell_type": "code",
   "execution_count": 34,
   "id": "929adfa5",
   "metadata": {},
   "outputs": [],
   "source": [
    "# cleaning data menggunakan RegEx"
   ]
  },
  {
   "cell_type": "code",
   "execution_count": 35,
   "id": "92c23206",
   "metadata": {},
   "outputs": [],
   "source": [
    "alay_dict = df_alay.rename(columns={0: 'original', \n",
    "                                      1: 'replacement'})"
   ]
  },
  {
   "cell_type": "code",
   "execution_count": 36,
   "id": "b3511e71",
   "metadata": {},
   "outputs": [
    {
     "name": "stdout",
     "output_type": "stream",
     "text": [
      "remove_nonaplhanumeric:  Halooo duniaa \n",
      "lowercase:  halooo, duniaa!\n",
      "remove_unnecessary_char:  Hehe RT USER USER apa kabs hehe\n",
      "normalize_alay:  amin adik habis\n"
     ]
    }
   ],
   "source": [
    "import re\n",
    "\n",
    "def lowercase(text):\n",
    "    return text.lower()\n",
    "\n",
    "def remove_unnecessary_char(text):\n",
    "    text = re.sub('\\n',' ',text) # membuang semua '\\n'\n",
    "    text = re.sub('rt',' ',text) # membuang semua simbol retweet\n",
    "    text = re.sub('user',' ',text) # membuang semua username\n",
    "    text = re.sub('((www\\.[^\\s]+)|(https?://[^\\s]+)|(http?://[^\\s]+))',' ',text) # membuang semua URL\n",
    "    text = re.sub('  +', ' ', text) # membuang ekstra spasi\n",
    "    return text\n",
    "    \n",
    "def remove_nonaplhanumeric(text):\n",
    "    text = re.sub('[^0-9a-zA-Z]+', ' ', text) \n",
    "    return text\n",
    "\n",
    "# merubah bentuk dataframe menjadi bentuk dictionary\n",
    "alay_dict_map = dict(zip(alay_dict['original'], alay_dict['replacement']))\n",
    "\n",
    "#merubah kata kata alay menjadi kata baku\n",
    "def normalize_alay(text):\n",
    "    return ' '.join([alay_dict_map[word] if word in alay_dict_map else word for word in text.split(' ')])\n",
    "\n",
    "print(\"remove_nonaplhanumeric: \", remove_nonaplhanumeric(\"Halooo,,,,, duniaa!!\"))\n",
    "print(\"lowercase: \", lowercase(\"Halooo, duniaa!\"))\n",
    "print(\"remove_unnecessary_char: \", remove_unnecessary_char(\"Hehe\\n\\n RT USER USER apa kabs www.google.com\\n  hehe\"))\n",
    "print(\"normalize_alay: \", normalize_alay(\"aamiin adek abis\"))"
   ]
  },
  {
   "cell_type": "code",
   "execution_count": 43,
   "id": "56681f19",
   "metadata": {},
   "outputs": [],
   "source": [
    "def preprocess(text):\n",
    "    text = lowercase(text) # 1\n",
    "    text = remove_unnecessary_char(text) # 2\n",
    "    text = remove_nonaplhanumeric(text) # 3\n",
    "    text = normalize_alay(text) # 4\n",
    "    return text\n"
   ]
  },
  {
   "cell_type": "code",
   "execution_count": 44,
   "id": "b6b396cc",
   "metadata": {},
   "outputs": [
    {
     "data": {
      "text/html": [
       "<div>\n",
       "<style scoped>\n",
       "    .dataframe tbody tr th:only-of-type {\n",
       "        vertical-align: middle;\n",
       "    }\n",
       "\n",
       "    .dataframe tbody tr th {\n",
       "        vertical-align: top;\n",
       "    }\n",
       "\n",
       "    .dataframe thead th {\n",
       "        text-align: right;\n",
       "    }\n",
       "</style>\n",
       "<table border=\"1\" class=\"dataframe\">\n",
       "  <thead>\n",
       "    <tr style=\"text-align: right;\">\n",
       "      <th></th>\n",
       "      <th>Tweet</th>\n",
       "      <th>HS</th>\n",
       "      <th>Abusive</th>\n",
       "      <th>HS_Individual</th>\n",
       "      <th>HS_Group</th>\n",
       "      <th>HS_Religion</th>\n",
       "      <th>HS_Race</th>\n",
       "      <th>HS_Physical</th>\n",
       "      <th>HS_Gender</th>\n",
       "      <th>HS_Other</th>\n",
       "      <th>HS_Weak</th>\n",
       "      <th>HS_Moderate</th>\n",
       "      <th>HS_Strong</th>\n",
       "    </tr>\n",
       "  </thead>\n",
       "  <tbody>\n",
       "    <tr>\n",
       "      <th>0</th>\n",
       "      <td>di saat semua cowok berusaha melacak perhatia...</td>\n",
       "      <td>1</td>\n",
       "      <td>1</td>\n",
       "      <td>1</td>\n",
       "      <td>0</td>\n",
       "      <td>0</td>\n",
       "      <td>0</td>\n",
       "      <td>0</td>\n",
       "      <td>0</td>\n",
       "      <td>1</td>\n",
       "      <td>1</td>\n",
       "      <td>0</td>\n",
       "      <td>0</td>\n",
       "    </tr>\n",
       "    <tr>\n",
       "      <th>1</th>\n",
       "      <td>siapa yang telat memberi tau kamu edan sarap ...</td>\n",
       "      <td>0</td>\n",
       "      <td>1</td>\n",
       "      <td>0</td>\n",
       "      <td>0</td>\n",
       "      <td>0</td>\n",
       "      <td>0</td>\n",
       "      <td>0</td>\n",
       "      <td>0</td>\n",
       "      <td>0</td>\n",
       "      <td>0</td>\n",
       "      <td>0</td>\n",
       "      <td>0</td>\n",
       "    </tr>\n",
       "    <tr>\n",
       "      <th>2</th>\n",
       "      <td>41 kadang aku berpikir kenapa aku tetap percay...</td>\n",
       "      <td>0</td>\n",
       "      <td>0</td>\n",
       "      <td>0</td>\n",
       "      <td>0</td>\n",
       "      <td>0</td>\n",
       "      <td>0</td>\n",
       "      <td>0</td>\n",
       "      <td>0</td>\n",
       "      <td>0</td>\n",
       "      <td>0</td>\n",
       "      <td>0</td>\n",
       "      <td>0</td>\n",
       "    </tr>\n",
       "    <tr>\n",
       "      <th>3</th>\n",
       "      <td>aku itu aku dan ku tau matamu sipit tapi dili...</td>\n",
       "      <td>0</td>\n",
       "      <td>0</td>\n",
       "      <td>0</td>\n",
       "      <td>0</td>\n",
       "      <td>0</td>\n",
       "      <td>0</td>\n",
       "      <td>0</td>\n",
       "      <td>0</td>\n",
       "      <td>0</td>\n",
       "      <td>0</td>\n",
       "      <td>0</td>\n",
       "      <td>0</td>\n",
       "    </tr>\n",
       "    <tr>\n",
       "      <th>4</th>\n",
       "      <td>kaum cebong kafir sudah kelihatan dongoknya d...</td>\n",
       "      <td>1</td>\n",
       "      <td>1</td>\n",
       "      <td>0</td>\n",
       "      <td>1</td>\n",
       "      <td>1</td>\n",
       "      <td>0</td>\n",
       "      <td>0</td>\n",
       "      <td>0</td>\n",
       "      <td>0</td>\n",
       "      <td>0</td>\n",
       "      <td>1</td>\n",
       "      <td>0</td>\n",
       "    </tr>\n",
       "    <tr>\n",
       "      <th>5</th>\n",
       "      <td>ya bani taplak dan kawan kawan xf0 x9f x98 x8...</td>\n",
       "      <td>1</td>\n",
       "      <td>1</td>\n",
       "      <td>0</td>\n",
       "      <td>1</td>\n",
       "      <td>0</td>\n",
       "      <td>0</td>\n",
       "      <td>0</td>\n",
       "      <td>0</td>\n",
       "      <td>1</td>\n",
       "      <td>0</td>\n",
       "      <td>1</td>\n",
       "      <td>0</td>\n",
       "    </tr>\n",
       "    <tr>\n",
       "      <th>6</th>\n",
       "      <td>deklarasi pilihan kepala daerah 2018 aman dan ...</td>\n",
       "      <td>0</td>\n",
       "      <td>0</td>\n",
       "      <td>0</td>\n",
       "      <td>0</td>\n",
       "      <td>0</td>\n",
       "      <td>0</td>\n",
       "      <td>0</td>\n",
       "      <td>0</td>\n",
       "      <td>0</td>\n",
       "      <td>0</td>\n",
       "      <td>0</td>\n",
       "      <td>0</td>\n",
       "    </tr>\n",
       "    <tr>\n",
       "      <th>7</th>\n",
       "      <td>gue baru saja selesai re watch aldnoah zero pa...</td>\n",
       "      <td>0</td>\n",
       "      <td>1</td>\n",
       "      <td>0</td>\n",
       "      <td>0</td>\n",
       "      <td>0</td>\n",
       "      <td>0</td>\n",
       "      <td>0</td>\n",
       "      <td>0</td>\n",
       "      <td>0</td>\n",
       "      <td>0</td>\n",
       "      <td>0</td>\n",
       "      <td>0</td>\n",
       "    </tr>\n",
       "    <tr>\n",
       "      <th>8</th>\n",
       "      <td>nah admin belanja satu lagi po terbaik nak mak...</td>\n",
       "      <td>0</td>\n",
       "      <td>0</td>\n",
       "      <td>0</td>\n",
       "      <td>0</td>\n",
       "      <td>0</td>\n",
       "      <td>0</td>\n",
       "      <td>0</td>\n",
       "      <td>0</td>\n",
       "      <td>0</td>\n",
       "      <td>0</td>\n",
       "      <td>0</td>\n",
       "      <td>0</td>\n",
       "    </tr>\n",
       "    <tr>\n",
       "      <th>9</th>\n",
       "      <td>enak lagi kalau sambil ngewe</td>\n",
       "      <td>0</td>\n",
       "      <td>1</td>\n",
       "      <td>0</td>\n",
       "      <td>0</td>\n",
       "      <td>0</td>\n",
       "      <td>0</td>\n",
       "      <td>0</td>\n",
       "      <td>0</td>\n",
       "      <td>0</td>\n",
       "      <td>0</td>\n",
       "      <td>0</td>\n",
       "      <td>0</td>\n",
       "    </tr>\n",
       "  </tbody>\n",
       "</table>\n",
       "</div>"
      ],
      "text/plain": [
       "                                               Tweet  HS  Abusive  \\\n",
       "0   di saat semua cowok berusaha melacak perhatia...   1        1   \n",
       "1   siapa yang telat memberi tau kamu edan sarap ...   0        1   \n",
       "2  41 kadang aku berpikir kenapa aku tetap percay...   0        0   \n",
       "3   aku itu aku dan ku tau matamu sipit tapi dili...   0        0   \n",
       "4   kaum cebong kafir sudah kelihatan dongoknya d...   1        1   \n",
       "5   ya bani taplak dan kawan kawan xf0 x9f x98 x8...   1        1   \n",
       "6  deklarasi pilihan kepala daerah 2018 aman dan ...   0        0   \n",
       "7  gue baru saja selesai re watch aldnoah zero pa...   0        1   \n",
       "8  nah admin belanja satu lagi po terbaik nak mak...   0        0   \n",
       "9                      enak lagi kalau sambil ngewe    0        1   \n",
       "\n",
       "   HS_Individual  HS_Group  HS_Religion  HS_Race  HS_Physical  HS_Gender  \\\n",
       "0              1         0            0        0            0          0   \n",
       "1              0         0            0        0            0          0   \n",
       "2              0         0            0        0            0          0   \n",
       "3              0         0            0        0            0          0   \n",
       "4              0         1            1        0            0          0   \n",
       "5              0         1            0        0            0          0   \n",
       "6              0         0            0        0            0          0   \n",
       "7              0         0            0        0            0          0   \n",
       "8              0         0            0        0            0          0   \n",
       "9              0         0            0        0            0          0   \n",
       "\n",
       "   HS_Other  HS_Weak  HS_Moderate  HS_Strong  \n",
       "0         1        1            0          0  \n",
       "1         0        0            0          0  \n",
       "2         0        0            0          0  \n",
       "3         0        0            0          0  \n",
       "4         0        0            1          0  \n",
       "5         1        0            1          0  \n",
       "6         0        0            0          0  \n",
       "7         0        0            0          0  \n",
       "8         0        0            0          0  \n",
       "9         0        0            0          0  "
      ]
     },
     "execution_count": 44,
     "metadata": {},
     "output_type": "execute_result"
    }
   ],
   "source": [
    "df['Tweet'] = df['Tweet'].apply(preprocess)\n",
    "df.head(10)"
   ]
  },
  {
   "cell_type": "code",
   "execution_count": 37,
   "id": "07cd9d69",
   "metadata": {},
   "outputs": [
    {
     "name": "stdout",
     "output_type": "stream",
     "text": [
      "<zip object at 0x00000218FF0CB180>\n"
     ]
    }
   ],
   "source": [
    "print(zip(alay_dict['original'], alay_dict['replacement']))"
   ]
  },
  {
   "cell_type": "code",
   "execution_count": 38,
   "id": "e1571ae0",
   "metadata": {},
   "outputs": [
    {
     "name": "stdout",
     "output_type": "stream",
     "text": [
      "('anakjakartaasikasik', 'anak jakarta asyik asyik')\n",
      "('pakcikdahtua', 'pak cik sudah tua')\n",
      "('pakcikmudalagi', 'pak cik muda lagi')\n",
      "('t3tapjokowi', 'tetap jokowi')\n",
      "('3x', 'tiga kali')\n",
      "('aamiin', 'amin')\n",
      "('aamiinn', 'amin')\n",
      "('aamin', 'amin')\n",
      "('aammiin', 'amin')\n",
      "('abis', 'habis')\n"
     ]
    }
   ],
   "source": [
    "#merubah bentuk dataframe menjadi dict \n",
    "list_dummy = list(zip(alay_dict['original'], alay_dict['replacement']))\n",
    "for i in range (10):\n",
    "   print(list_dummy[i])"
   ]
  },
  {
   "cell_type": "code",
   "execution_count": 39,
   "id": "baa1599b",
   "metadata": {},
   "outputs": [
    {
     "data": {
      "text/plain": [
       "0                 anak jakarta asyik asyik\n",
       "1                        pak cik sudah tua\n",
       "2                        pak cik muda lagi\n",
       "3                             tetap jokowi\n",
       "4                                tiga kali\n",
       "                       ...                \n",
       "15162    menteri pendidikan dan kebudayaan\n",
       "15163                  menteri perdagangan\n",
       "15164                 menteri tenaga kerja\n",
       "15165                              mentwit\n",
       "15166                             memegang\n",
       "Name: replacement, Length: 15167, dtype: object"
      ]
     },
     "execution_count": 39,
     "metadata": {},
     "output_type": "execute_result"
    }
   ],
   "source": [
    "alay_dict['replacement']"
   ]
  },
  {
   "cell_type": "code",
   "execution_count": 40,
   "id": "890652bc",
   "metadata": {},
   "outputs": [
    {
     "data": {
      "text/plain": [
       "0        anakjakartaasikasik\n",
       "1               pakcikdahtua\n",
       "2             pakcikmudalagi\n",
       "3                t3tapjokowi\n",
       "4                         3x\n",
       "                ...         \n",
       "15162              mendikbud\n",
       "15163                 mendag\n",
       "15164                menaker\n",
       "15165               memetwit\n",
       "15166               megangin\n",
       "Name: original, Length: 15167, dtype: object"
      ]
     },
     "execution_count": 40,
     "metadata": {},
     "output_type": "execute_result"
    }
   ],
   "source": [
    "alay_dict['original']"
   ]
  },
  {
   "cell_type": "code",
   "execution_count": 41,
   "id": "d14e8a82",
   "metadata": {},
   "outputs": [
    {
     "name": "stdout",
     "output_type": "stream",
     "text": [
      "Asw\n",
      "ya\n",
      "tapi\n",
      "gue\n",
      "jarang\n",
      "ngambek,\n",
      "takut\n",
      "wkwk\n",
      "gue\n",
      "kan\n",
      "bucin.'\n"
     ]
    }
   ],
   "source": [
    "#melihat kalimat yang bersih baris\n",
    "for word in df['Tweet'][20].split(' '):\n",
    "    if word in alay_dict_map:\n",
    "        print(''.join(alay_dict_map[word]))\n",
    "    else :\n",
    "         print(word)"
   ]
  },
  {
   "cell_type": "code",
   "execution_count": null,
   "id": "553440c5",
   "metadata": {},
   "outputs": [],
   "source": []
  }
 ],
 "metadata": {
  "kernelspec": {
   "display_name": "Python (system)",
   "language": "python",
   "name": "python3"
  },
  "language_info": {
   "codemirror_mode": {
    "name": "ipython",
    "version": 3
   },
   "file_extension": ".py",
   "mimetype": "text/x-python",
   "name": "python",
   "nbconvert_exporter": "python",
   "pygments_lexer": "ipython3",
   "version": "3.9.12"
  },
  "vscode": {
   "interpreter": {
    "hash": "5179d32cf6ec497baf3f8a3ef987cc77c5d2dc691fdde20a56316522f61a7323"
   }
  }
 },
 "nbformat": 4,
 "nbformat_minor": 5
}
